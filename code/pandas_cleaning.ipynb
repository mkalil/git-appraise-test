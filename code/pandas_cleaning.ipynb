{
 "cells": [
  {
   "cell_type": "markdown",
   "metadata": {},
   "source": [
    "#Cleaning data\n",
    "\n",
    "Campaign finance information for Colorado is publicly available from the [TRACER](http://tracer.sos.colorado.gov/PublicSite/homepage.aspx),Transparency in Contribution and Expenditure Reporting, website.  You may also use the REST [API](http://co.opencampaigndata.org/).\n"
   ]
  },
  {
   "cell_type": "code",
   "execution_count": 1,
   "metadata": {
    "collapsed": false,
    "jupyter": {
     "outputs_hidden": false
    }
   },
   "outputs": [],
   "source": [
    "import pandas as pd\n",
    "import os"
   ]
  },
  {
   "cell_type": "code",
   "execution_count": 2,
   "metadata": {
    "collapsed": false,
    "jupyter": {
     "outputs_hidden": false
    }
   },
   "outputs": [
    {
     "name": "stdout",
     "output_type": "stream",
     "text": [
      "             filedDate firstName                           lastName  \\\n",
      "0  2013-03-13 00:00:00       NaN                           KEY BANK   \n",
      "1  2013-03-13 00:00:00       NaN                           KEY BANK   \n",
      "2  2013-01-11 00:00:00       NaN                     CITI BANK VISA   \n",
      "3  2013-04-15 00:00:00       NaN                            NGP VAN   \n",
      "4  2013-04-14 00:00:00       NaN  LEADERSHIP PROGRAM OF THE ROCKIES   \n",
      "\n",
      "                             address        city state    zip  amount  \n",
      "0                       PO BOX 22114       ABANY    NY  12201     NaN  \n",
      "1                       PO BOX 22114       ABANY    NY  12201     NaN  \n",
      "2                                . .           .    CO  .....     NaN  \n",
      "3              48 GROVE ST SUITE 202  SOMERVILLE    MA  02144     NaN  \n",
      "4  1777 S. HARRISON STREET, STE. 807      DENVER    CO  80210     NaN  \n"
     ]
    }
   ],
   "source": [
    "df = pd.read_csv(os.path.join('data','exp_sub.csv'))\n",
    "print df.head()"
   ]
  },
  {
   "cell_type": "code",
   "execution_count": 3,
   "metadata": {
    "collapsed": false,
    "jupyter": {
     "outputs_hidden": false
    }
   },
   "outputs": [
    {
     "name": "stdout",
     "output_type": "stream",
     "text": [
      "['12201' '.....' '02144' ..., '32696.0' '40401.0' '80807-']\n"
     ]
    }
   ],
   "source": [
    "print df['zip'].unique()"
   ]
  },
  {
   "cell_type": "code",
   "execution_count": 4,
   "metadata": {
    "collapsed": false,
    "jupyter": {
     "outputs_hidden": false
    }
   },
   "outputs": [
    {
     "name": "stdout",
     "output_type": "stream",
     "text": [
      "['NY' 'CO' 'MA' 'ID' 'CA' 'MN' 'NC' 'GA' 'WA' 'DC' 'NJ' 'TX' 'KY' 'TN' 'IN'\n",
      " nan 'AZ' 'MD' 'UT' 'PA' 'WI' 'FL' 'OH' 'NE' 'IL' 'D.' 'WV' 'DE' 'OT' 'MS'\n",
      " 'OK' 'MI' 'DI' 'LA' 'VA' 'ARVADA' 'BC' 'NV' 'TE' 'IA' 'MO' 'N/' 'NM' 'SD'\n",
      " 'ND' 'HI' 'ON' 'NH' 'CT' 'AL' 'KS' 'OR' 'QC' 'AR' 'NB' 'VT' 'MY' 'LU' 'SC'\n",
      " 'SO' 'WY' 'C0' 'UN' 'UK' 'MT' 'HA' 'CP' 'ME' 'BE' 'VI' 'IO' 'KE' 'CHECKS'\n",
      " 'NO' 'PE' 'CANDIDATE NAME TAG' 'GAS & PARKING' 'POSTAGE' 'GAS' 'LO'\n",
      " 'INK CARTRIDGE' 'T-SHIRTS'\n",
      " 'ELECTRONIC DONATION PROCESSING AND TRANSFER FEES' 'PARADE FEE'\n",
      " 'LARIMER DEMS BREAKFAST' 'TRXF FEES' 'PROPANE' 'FUEL' 'LODGING' 'AA'\n",
      " 'MAILING SUPPLIES' 'PARK RESERVATION FEE' 'EU' 'KA' 'LITERATURE'\n",
      " 'ICE CREAM FOR CAMPAIGN SOCIAL' 'GORA GORA ORKESTAR' 'BANK TRANSFER FEES'\n",
      " 'XX' 'CANDIDATE CAMPAIGN CONTRIBUTION' 'TRUMAN CAMPAIGN DINNER' 'IR' 'AB'\n",
      " 'POLITICAL YARD SIGNS' 'ROOM DIVIDER' 'POSTCARD PUBLICATION AND MAILING'\n",
      " 'BANK TRXF FEES' 'GE' 'RI' 'PR' 'AK' 'AP' 'NS' 'BR' 'R.' 'DU' 'BO'\n",
      " 'IN KIND CONTRIBUTION FROM CANDIDATE' 'AU' 'PU']\n"
     ]
    }
   ],
   "source": [
    "print df['state'].unique()"
   ]
  },
  {
   "cell_type": "markdown",
   "metadata": {},
   "source": [
    "##Approach: use `map`"
   ]
  },
  {
   "cell_type": "code",
   "execution_count": 5,
   "metadata": {
    "collapsed": false,
    "jupyter": {
     "outputs_hidden": false
    }
   },
   "outputs": [],
   "source": [
    "def parse_filed_date(dstr):\n",
    "    try:\n",
    "        tmp = str(dstr).split('-')\n",
    "        year, month, day = tmp[0], tmp[1], tmp[2][:2]\n",
    "        return datetime.date(year=int(year), month=int(month), day=int(day))\n",
    "    except ValueError:\n",
    "        return datetime.date(year=1990, month=1, day=1)\n",
    "    except IndexError:\n",
    "        return datetime.date(year=1990, month=1, day=1)"
   ]
  },
  {
   "cell_type": "code",
   "execution_count": 7,
   "metadata": {
    "collapsed": false,
    "jupyter": {
     "outputs_hidden": false
    }
   },
   "outputs": [],
   "source": [
    "def cleanup_zip(zipcode):\n",
    "    tmp = str(zipcode)\n",
    "    if tmp.find('-') > 0:\n",
    "        tmp = tmp[:tmp.find('-')]\n",
    "    try:    \n",
    "        tmp = str(abs(int(float(tmp))))\n",
    "    except ValueError:\n",
    "        tmp = '99999'\n",
    "        \n",
    "    if len(tmp) < 5:\n",
    "        tmp = '99999'\n",
    "    elif len(tmp) > 5:\n",
    "        tmp = tmp[:5]\n",
    "        \n",
    "    return tmp"
   ]
  },
  {
   "cell_type": "code",
   "execution_count": 8,
   "metadata": {
    "collapsed": false,
    "jupyter": {
     "outputs_hidden": false
    }
   },
   "outputs": [],
   "source": [
    "df['zip_clean'] = df['zip'].map(cleanup_zip)"
   ]
  },
  {
   "cell_type": "code",
   "execution_count": 9,
   "metadata": {
    "collapsed": false,
    "jupyter": {
     "outputs_hidden": false
    }
   },
   "outputs": [],
   "source": [
    "df['date_clean'] = df['filedDate'].map(parse_filed_date)"
   ]
  },
  {
   "cell_type": "code",
   "execution_count": 10,
   "metadata": {
    "collapsed": false,
    "jupyter": {
     "outputs_hidden": false
    }
   },
   "outputs": [
    {
     "name": "stdout",
     "output_type": "stream",
     "text": [
      "             filedDate firstName                           lastName  \\\n",
      "0  2013-03-13 00:00:00       NaN                           KEY BANK   \n",
      "1  2013-03-13 00:00:00       NaN                           KEY BANK   \n",
      "2  2013-01-11 00:00:00       NaN                     CITI BANK VISA   \n",
      "3  2013-04-15 00:00:00       NaN                            NGP VAN   \n",
      "4  2013-04-14 00:00:00       NaN  LEADERSHIP PROGRAM OF THE ROCKIES   \n",
      "5  2013-04-14 00:00:00       NaN                   CONSTANT CONTACT   \n",
      "6  2013-04-15 00:00:00       NaN                           1ST BANK   \n",
      "7  2013-07-15 00:00:00       NaN                           1ST BANK   \n",
      "8  2013-07-15 00:00:00       NaN                           1ST BANK   \n",
      "9  2013-01-09 00:00:00       NaN                        WELLS FARGO   \n",
      "\n",
      "                             address               city state    zip  amount  \\\n",
      "0                       PO BOX 22114              ABANY    NY  12201     NaN   \n",
      "1                       PO BOX 22114              ABANY    NY  12201     NaN   \n",
      "2                                . .                  .    CO  .....     NaN   \n",
      "3              48 GROVE ST SUITE 202         SOMERVILLE    MA  02144     NaN   \n",
      "4  1777 S. HARRISON STREET, STE. 807             DENVER    CO  80210     NaN   \n",
      "5                  1601 TRAPELO ROAD            WALTHAM    MA  02451     NaN   \n",
      "6                        PO BOX 4547  GREENWOOD VILLAGE    CO  80115     NaN   \n",
      "7                        PO BOX 4547  GREENWOOD VILLAGE    CO  80115     NaN   \n",
      "8                        PO BOX 4547  GREENWOOD VILLAGE    CO  80115     NaN   \n",
      "9          18220 E 104TH AVE STE 101     COMMERECE CITY    CO  80022     NaN   \n",
      "\n",
      "  zip_clean  date_clean  \n",
      "0     12201  2013-03-13  \n",
      "1     12201  2013-03-13  \n",
      "2     99999  2013-01-11  \n",
      "3     99999  2013-04-15  \n",
      "4     80210  2013-04-14  \n",
      "5     99999  2013-04-14  \n",
      "6     80115  2013-04-15  \n",
      "7     80115  2013-07-15  \n",
      "8     80115  2013-07-15  \n",
      "9     80022  2013-01-09  \n"
     ]
    }
   ],
   "source": [
    "print df.head(10)"
   ]
  },
  {
   "cell_type": "markdown",
   "metadata": {},
   "source": [
    "What percent is bad?"
   ]
  },
  {
   "cell_type": "code",
   "execution_count": 11,
   "metadata": {
    "collapsed": false,
    "jupyter": {
     "outputs_hidden": false
    }
   },
   "outputs": [
    {
     "name": "stdout",
     "output_type": "stream",
     "text": [
      "7.89467765404\n"
     ]
    }
   ],
   "source": [
    "print np.sum(df['zip_clean'] == '99999')/float(len(df))*100"
   ]
  },
  {
   "cell_type": "code",
   "execution_count": 12,
   "metadata": {
    "collapsed": false,
    "jupyter": {
     "outputs_hidden": false
    }
   },
   "outputs": [
    {
     "name": "stdout",
     "output_type": "stream",
     "text": [
      "0.019723285761\n"
     ]
    }
   ],
   "source": [
    "print np.sum(df['date_clean'] == datetime.date(year=1990, month=1, day=1))/float(len(df))*100"
   ]
  },
  {
   "cell_type": "markdown",
   "metadata": {},
   "source": [
    "Is that really a big deal?"
   ]
  },
  {
   "cell_type": "code",
   "execution_count": 13,
   "metadata": {
    "collapsed": false,
    "jupyter": {
     "outputs_hidden": false
    }
   },
   "outputs": [],
   "source": [
    "dirty_amount = df[df['zip_clean'] == '99999']['amount'].sum()"
   ]
  },
  {
   "cell_type": "code",
   "execution_count": 14,
   "metadata": {
    "collapsed": false,
    "jupyter": {
     "outputs_hidden": false
    }
   },
   "outputs": [],
   "source": [
    "clean_amount = df[df['zip_clean'] != '99999']['amount'].sum()"
   ]
  },
  {
   "cell_type": "code",
   "execution_count": 15,
   "metadata": {
    "collapsed": false,
    "jupyter": {
     "outputs_hidden": false
    }
   },
   "outputs": [
    {
     "name": "stdout",
     "output_type": "stream",
     "text": [
      "1.93791959238\n"
     ]
    }
   ],
   "source": [
    "print dirty_amount/(clean_amount+dirty_amount)*100"
   ]
  },
  {
   "cell_type": "markdown",
   "metadata": {},
   "source": [
    "Less of an issue in terms of money."
   ]
  },
  {
   "cell_type": "markdown",
   "metadata": {},
   "source": [
    "## Do our results make sense?"
   ]
  },
  {
   "cell_type": "code",
   "execution_count": 16,
   "metadata": {
    "collapsed": false,
    "jupyter": {
     "outputs_hidden": false
    }
   },
   "outputs": [
    {
     "data": {
      "text/plain": [
       "array(['.....', '02144', '02451', '08542', nan, '02141', '7068', '02238',\n",
       "       '07920', '02138', '01830', '02421', 'K2E1A', '4527-', '07068',\n",
       "       '00238', 'CO', '01803', '08090', 'ONLINE', 'V6B 1A7', '8020',\n",
       "       '07660', 'FEE', '08854', '02476', '07656', 'N/A', '00000',\n",
       "       'M6K 3M1', '01702', '....', '03102', '06902', '01420', '07070',\n",
       "       'J1H 1', '8022', '99999', 'K1V7P', '01862', '05701', '2138', '2238',\n",
       "       '06104', '07840', '08054', 'L-2449', '06183', 'V6B 4N4', '1524',\n",
       "       '05702', '01886', '02494', '06120', '0000000000', 'PO15 5RQ',\n",
       "       '01230', 'UNKNOWN', '0026', '03261', '02210', '07733', '2451.0',\n",
       "       '2421.0', '2139.0', '7078.0', '6880', '9027', '07006', 'J1H 1Z3',\n",
       "       '07751', '04106', '08831', '8112', '8017', 'M2N5J9', '06850',\n",
       "       '6183', '02452', '01062', '06150', '08053', '8008', 'TEXAS',\n",
       "       '01063', '08736', '07071', '08002-0343', '02238-2110', '8505',\n",
       "       'W1G9Q', '8.012', '02050', '8427', 'WASHINGTON', '04101',\n",
       "       'UNKNOWN -', '06856', '06880', '1625', '8024', '8152', '06854',\n",
       "       '8012', '8029', 'L3R5M7', '8321', 'K7M8S', '06410', 'M1W 3Z5',\n",
       "       'XXXXX', '1171.00', '03103', '01915', 'WEB', '8', '2009', '75.0',\n",
       "       '1862.0', '2009.0', '2144.0', '236', '8002', 'T2G1M', '01103',\n",
       "       'SW59QJ', 'N1 6AH', 'DA16 2WE', 'SW1H OTL', 'T2G -', '04643',\n",
       "       '02072', '8030 5', '8021-2408', '2370', '80503`', '80751D', '0550',\n",
       "       '75', 'HOTWIRE.CO', '06897', '02108', '01960', '9', '02111',\n",
       "       '07632', 'M5J 2', 'SE19PH', 'SE1 9PP', 'KIV7P2', '0', '2209',\n",
       "       '1235', '1471', '27', '8006', '99999.0', '802.0', '2632.0',\n",
       "       '7974.0', '5.0', '25.0', '2209.0', '1970.0', '811.0', '4901.0',\n",
       "       '7901.0', '4102.0', '1039', '6084', '8050', '4102', '800', '7901',\n",
       "       '0.0', '3243.0', '8050.0', '2084.0', '7059', '2460', '8822', '8034',\n",
       "       '6111', '8052', '8037', '6820', '4.0', '6084.0', '8029.0', '9999.0',\n",
       "       '500.0', '9999', '14', '6111.0', '6820.0', '5400', '8021', '8093',\n",
       "       '4953.0', '1611.0', '2.0', '4012.0', '2892.0', '2001.0', '8023.0',\n",
       "       '2476.0', '8013.0', '823.0', '8093.0', '8421.0', '8090.0', '7059.0',\n",
       "       '8023', '7451', '8031', '2245.0', '7834.0', '8041.0', '1471.0',\n",
       "       '200.0', '131.0', '8018.0', '810.0', '2700.0', '8022.0', '9.0',\n",
       "       '8003.0', '5701.0', '8033.0', '5667.0', '8141.0', '8010.0',\n",
       "       '1110.0', '8110.0', '5672.0', '37.0', '1803.0', '7606.0', '8020.0',\n",
       "       '6247.0', '7083.0', '8040.0', '8134.0', '1200.0', '7860.0', '229.0',\n",
       "       '6880.0', '8246.0', '2644.0', '1022.0', '805.0', '8162.0', '8075.0',\n",
       "       '8012.0', '8091.0', '8057.0', '8011.0', '80.0', '1158.0', '8002.0',\n",
       "       '2117.0', '8120.0', '8906.0', '172.0', '2114.0', '8.0', '7068.0',\n",
       "       '8052.0', '8021.0', '8608.0', '6447.0', '999.0', '3030.0', '7091.0',\n",
       "       '906.0', '8223.0', '9806.0', '1602.0', '8817.0', '7189.0', '6854.0',\n",
       "       '8435.0', '6611.0', '1.0', '8150.0', '8124.0', '8477.0', '2110.0',\n",
       "       '2405.0', '2142.0', '7400.0', '7189', '7362', '8005.0', '8112.0',\n",
       "       '63.0', '1888.0', '9215.0', '8642.0', '8501.0', '8087.0', '7004.0',\n",
       "       '1364.0', '81.0', '2407.0', '8211.0', '8100.0', '8024.0', '1801.0',\n",
       "       '9832.0', '3488.0', '8202.0', '3.0', '2179.0', '8004.0', '2006.0',\n",
       "       '8008.0', '1463.0', '2816.0', '8000.0', '8043.0', '1111.0',\n",
       "       '8634.0', '2559.0', '5402.0', '2138.0', '2163.0', '2045.0',\n",
       "       '4101.0', '3741.0', '2169.0', '8086.0', '2328.0', '7647.0', '1803',\n",
       "       '1801', '8125', '824.0', '8044', '07626', '03741', '07101',\n",
       "       '6183.0', '3083.0', '7101.0', '8121.0', '7772.0', '5401.0',\n",
       "       '8512.0', '8123.0', '02127', '80', '02140', '8090', '9088.0', '61',\n",
       "       '1560', '2241.0', '7945.0', '05402', '1000.0', '8816.0', '8854.0',\n",
       "       '8017.0', '8138.0', '803', '3102.0', '7452.0', '8101', '8131',\n",
       "       '2127.0', '8053', '01201', '07452', '2210.0', '7438.0', '6050.0',\n",
       "       '830.0', '8025', '02887', '05601', '2141.0', '5495.0', '8047.0',\n",
       "       '9313.0', '8312.0', '8054', '02241', '1002.0', '8156', '8751.0',\n",
       "       '2005.0', '930', '8007', '9988.0', '8104.0', '2140.0', '8161.0',\n",
       "       '8044.0', '4000.0', '8108.0', '8103.0', '06926', '03054', '07834',\n",
       "       '9742', 'T2G1M8', '06104-2907', '08873', '06106', 'M5H2M9',\n",
       "       'M5B2H1', 'M5V1J3', '8000', '811', '8026', '12', '03053', '01452',\n",
       "       '02171', '02116', '8030', '09140', 'B5A4B1', '1111', '02', '81',\n",
       "       '08487', '8103', '8151', '8501', '00000-0', '8011', '00111',\n",
       "       '02888', '06426', '8701', '06409', '05672', '8055', '02493',\n",
       "       '02347', '02125', '06141', '07005', '04011', '01961', '04240',\n",
       "       '06824', '02110', '8056', '02128', '03801', '01410-1', '6281',\n",
       "       '8028', '3621', '6282', '04241', '03909', '6283', '08540', '8631',\n",
       "       '02199', '02142', '02118', '0000', '05753', '07083', '218', '809',\n",
       "       '8203', '8104', '5711', '01021', '08816', 'K7M 885', '07670',\n",
       "       '5000', '08290', '7004', '4101', '2003', '07188', '01949', '02536',\n",
       "       '0443', '7570', '2000', '8140', '3274', '7000', '6153', '801',\n",
       "       '07059', '70', '2541', '9229', '02112', 'M8X 2Y8', '8113', '8083',\n",
       "       '94', '8010', '3675', '03585', '8014', '02101', '525', '07607',\n",
       "       '05602', 'K7M 8S5', '02492', '02381', '7452', '03062', '8290',\n",
       "       '02541', '8123', '02021', '0704', '06820', '7400', '8005', '02420',\n",
       "       '8795', '8013', '08054-1201', '07004', '3803', '02144-2500',\n",
       "       '08753', '5268', '07432', '8003', '06268', '802', '07110', '1966',\n",
       "       '1702', '07073', '00115', '05495', '04658', '8503-9040', '08817',\n",
       "       'NONE', 'K1V 7P2', 'IA', 'N2C 2', '08730', 'T2G 1M8', '07470',\n",
       "       '07002', '06612', '8149', 'T2G 1', 'L7L 5', '8J1149', '07042',\n",
       "       '2421', '06250', '06405', '*0108', 'V9P 2H5', '8136', '??????',\n",
       "       '02318', '4954', '8119', '06019', '01421', '02114', '07514', '5131',\n",
       "       '04333', '04171', '06450', '02066', 'T2GS<8', 'WWW', '8910',\n",
       "       '02829', '08527', '3OO43', '68542 2217', 'V5C 6C6', '07031',\n",
       "       '02155', '80237 2735', 'AUSTRALIA', '01778', '9531', '08003',\n",
       "       '06804', '02215', '?', '07054', '06830', 'COMPUTER', '07009',\n",
       "       '06095', '02114-9757', '02109', '07719', '06907', '8032', '6008',\n",
       "       '07080', '07652', '01801', '2005', '04579', '000266', '3000',\n",
       "       '00907', '00979', '00937', '238.0', '2108.0', '2238.0'], dtype=object)"
      ]
     },
     "execution_count": 16,
     "metadata": {},
     "output_type": "execute_result"
    }
   ],
   "source": [
    "df[df['zip_clean'] == '99999']['zip'].unique()"
   ]
  },
  {
   "cell_type": "markdown",
   "metadata": {},
   "source": [
    "But `08542` is a valid zip code.\n",
    "\n",
    "How about the `date_clean`?"
   ]
  },
  {
   "cell_type": "code",
   "execution_count": 17,
   "metadata": {
    "collapsed": false,
    "jupyter": {
     "outputs_hidden": false
    }
   },
   "outputs": [
    {
     "name": "stdout",
     "output_type": "stream",
     "text": [
      "['825178' '831858' '825174' 'Other' 'Credit/Debit Card' 'Cash' 'Check'\n",
      " 'Electronic Pay System' 'FUND RAISING' nan]\n"
     ]
    }
   ],
   "source": [
    "print df[df['date_clean'] == datetime.date(year=1990, month=1, day=1)]['filedDate'].unique()"
   ]
  },
  {
   "cell_type": "code",
   "execution_count": null,
   "metadata": {
    "collapsed": false,
    "jupyter": {
     "outputs_hidden": false
    }
   },
   "outputs": [],
   "source": []
  }
 ],
 "metadata": {
  "kernelspec": {
   "display_name": "Python 3",
   "language": "python",
   "name": "python3"
  },
  "language_info": {
   "codemirror_mode": {
    "name": "ipython",
    "version": 3
   },
   "file_extension": ".py",
   "mimetype": "text/x-python",
   "name": "python",
   "nbconvert_exporter": "python",
   "pygments_lexer": "ipython3",
   "version": "3.8.4rc1"
  }
 },
 "nbformat": 4,
 "nbformat_minor": 4
}
